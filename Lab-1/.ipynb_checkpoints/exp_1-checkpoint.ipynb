{
 "cells": [
  {
   "cell_type": "code",
   "execution_count": 1,
   "id": "a698c635-43b7-419e-a362-caf00255fc61",
   "metadata": {},
   "outputs": [
    {
     "name": "stdout",
     "output_type": "stream",
     "text": [
      "Dataset of Student Marks: [85 92 78 88 76 95 89 67 73 82 91 94 77 84 90 79 81 86 72 68]\n",
      "\n",
      "Statistical Analysis:\n",
      "Mean: 82.35\n",
      "Median: 83.0\n",
      "Standard Deviation: 8.241814120689693\n",
      "Variance: 67.92750000000001\n",
      "\n",
      "Maximum Marks: 95\n",
      "Minimum Marks: 67\n"
     ]
    }
   ],
   "source": [
    "import numpy as np\n",
    "\n",
    "student_marks = np.array([85, 92, 78, 88, 76, 95, 89, 67, 73, 82, 91, 94, 77, 84, 90, 79, 81, 86, 72, 68])\n",
    "print(\"Dataset of Student Marks:\", student_marks)\n",
    "\n",
    "mean_marks = np.mean(student_marks)\n",
    "median_marks = np.median(student_marks)\n",
    "std_dev_marks = np.std(student_marks)\n",
    "variance_marks = np.var(student_marks)\n",
    "\n",
    "print(\"\\nStatistical Analysis:\")\n",
    "print(f\"Mean: {mean_marks}\")\n",
    "print(f\"Median: {median_marks}\")\n",
    "print(f\"Standard Deviation: {std_dev_marks}\")\n",
    "print(f\"Variance: {variance_marks}\")\n",
    "\n",
    "max_marks = np.max(student_marks)\n",
    "min_marks = np.min(student_marks)\n",
    "\n",
    "print(f\"\\nMaximum Marks: {max_marks}\")\n",
    "print(f\"Minimum Marks: {min_marks}\")"
   ]
  },
  {
   "cell_type": "code",
   "execution_count": 2,
   "id": "b7e39558-0212-480c-883e-d2db174d49e5",
   "metadata": {},
   "outputs": [
    {
     "name": "stdout",
     "output_type": "stream",
     "text": [
      "Dataset of Student Marks: [89  8 50 93 80 70 32 97 52 61 33 29 20 36 17 72 36 52 66 73]\n",
      "\n",
      "Statistical Analysis:\n",
      "Mean: 53.3\n",
      "Median: 52.0\n",
      "Standard Deviation: 25.74703866466977\n",
      "Variance: 662.9100000000001\n",
      "\n",
      "Maximum Marks: 97\n",
      "Minimum Marks: 8\n"
     ]
    }
   ],
   "source": [
    "import numpy as np\n",
    "\n",
    "student_marks = np.random.randint(0, 101, size=20)\n",
    "print(\"Dataset of Student Marks:\", student_marks)\n",
    "\n",
    "mean_marks = np.mean(student_marks)\n",
    "median_marks = np.median(student_marks)\n",
    "std_dev_marks = np.std(student_marks)\n",
    "variance_marks = np.var(student_marks)\n",
    "\n",
    "print(\"\\nStatistical Analysis:\")\n",
    "print(f\"Mean: {mean_marks}\")\n",
    "print(f\"Median: {median_marks}\")\n",
    "print(f\"Standard Deviation: {std_dev_marks}\")\n",
    "print(f\"Variance: {variance_marks}\")\n",
    "\n",
    "max_marks = np.max(student_marks)\n",
    "min_marks = np.min(student_marks)\n",
    "\n",
    "print(f\"\\nMaximum Marks: {max_marks}\")\n",
    "print(f\"Minimum Marks: {min_marks}\")"
   ]
  },
  {
   "cell_type": "code",
   "execution_count": 4,
   "id": "9a2ab8dd-4970-4bf8-822d-8eac4e0c93db",
   "metadata": {},
   "outputs": [
    {
     "name": "stdout",
     "output_type": "stream",
     "text": [
      "Marks of students :  [51 92 14 71 60 20 82 86 74 74 87 99 23  2 21 52  1 87 29 37]\n",
      "\n",
      "Statistical Analysis:\n",
      "Mean : 53.1\n",
      "Median : 56.0\n",
      "Standard Deviation : 31.472051092993606\n",
      "Variance : 990.49\n",
      "\n",
      "Maximum marks : 99\n",
      "Minimum marks : 1\n"
     ]
    }
   ],
   "source": [
    "import numpy as np\n",
    "\n",
    "np.random.seed(42)\n",
    "marks = np.random.randint(0,101,size=20)\n",
    "print(\"Marks of students : \",marks)\n",
    "mean = np.mean(marks)\n",
    "median = np.median(marks)\n",
    "st_dev = np.std(marks)\n",
    "variance = np.var(marks)\n",
    "\n",
    "print(\"\\nStatistical Analysis:\")\n",
    "print(f\"Mean : {mean}\")\n",
    "print(f\"Median : {median}\")\n",
    "print(f\"Standard Deviation : {st_dev}\")\n",
    "print(f\"Variance : {variance}\")\n",
    "\n",
    "max = np.max(marks)\n",
    "min = np.min(marks)\n",
    "\n",
    "print(f\"\\nMaximum marks : {max}\")\n",
    "print(f\"Minimum marks : {min}\")"
   ]
  }
 ],
 "metadata": {
  "kernelspec": {
   "display_name": "Python 3 (ipykernel)",
   "language": "python",
   "name": "python3"
  },
  "language_info": {
   "codemirror_mode": {
    "name": "ipython",
    "version": 3
   },
   "file_extension": ".py",
   "mimetype": "text/x-python",
   "name": "python",
   "nbconvert_exporter": "python",
   "pygments_lexer": "ipython3",
   "version": "3.12.5"
  }
 },
 "nbformat": 4,
 "nbformat_minor": 5
}
